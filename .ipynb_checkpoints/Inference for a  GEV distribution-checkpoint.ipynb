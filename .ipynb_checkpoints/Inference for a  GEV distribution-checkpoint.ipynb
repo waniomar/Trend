{
 "cells": [
  {
   "cell_type": "markdown",
   "metadata": {},
   "source": [
    "# Parameter inference for a distribution within the Bayesian Framework\n"
   ]
  },
  {
   "cell_type": "code",
   "execution_count": 11,
   "metadata": {},
   "outputs": [],
   "source": [
    "# Didactical script for Bayesian inference of parameters\n",
    "# O. Wani (Mar, 2021)\n",
    "# Metropolis-Hastings algorithm:\n",
    "# adapted from fJoseph Moukarzel (Towards data science: https://tinyurl.com/yxaqdjv2)\n",
    "\n",
    "import matplotlib.pyplot as plt # package for good plots\n",
    "import pandas as pd             # package for data analytics\n",
    "import numpy as np              # package for efficient numerics\n",
    "import plotly.offline as py     # for dynamic plots\n",
    "import cufflinks as cf          # plotly bindings for pandas\n",
    "import seaborn as sns           # for nice plots\n",
    "import scipy.stats as stats     # fit a GEV distribution\n",
    "\n",
    "from ipynb.fs.full.import_data import get_data, get_station_name # Import data\n",
    "\n",
    "# other modules that can be employed for inference\n",
    "#import emcee\n",
    "#import mc3\n",
    "#import sys\n",
    "#from pydream.parameters import FlatParam\n",
    "#from pydream.core import run_dream\n",
    "#from pydream.convergence import  Gelman_Rubin"
   ]
  },
  {
   "cell_type": "code",
   "execution_count": 12,
   "metadata": {},
   "outputs": [],
   "source": [
    "# test hypothesis on GEV\n",
    "sample1 = stats.genextreme.rvs( size=1000, c = 0,  loc=10, scale=1)\n",
    "sample2 = stats.genextreme.rvs( size=1000, c = 0,  loc=10, scale=1)\n",
    "sample3 = stats.genextreme.rvs( size=1000, c = 0,  loc=102, scale=1) \n",
    "sta = np.append(sample1 ,sample2)\n",
    "non_sta = np.append(sample1 ,sample3)\n",
    "# use scipy.stats to get the 'best guess' values of parameters"
   ]
  },
  {
   "cell_type": "code",
   "execution_count": 13,
   "metadata": {},
   "outputs": [
    {
     "ename": "NameError",
     "evalue": "name 'samp1e1' is not defined",
     "output_type": "error",
     "traceback": [
      "\u001b[0;31m---------------------------------------------------------------------------\u001b[0m",
      "\u001b[0;31mNameError\u001b[0m                                 Traceback (most recent call last)",
      "\u001b[0;32m<ipython-input-13-c8165b48d5b0>\u001b[0m in \u001b[0;36m<module>\u001b[0;34m\u001b[0m\n\u001b[0;32m----> 1\u001b[0;31m \u001b[0mshape1\u001b[0m\u001b[0;34m,\u001b[0m \u001b[0mloc1\u001b[0m\u001b[0;34m,\u001b[0m \u001b[0mscale1\u001b[0m \u001b[0;34m=\u001b[0m\u001b[0mstats\u001b[0m\u001b[0;34m.\u001b[0m\u001b[0mgenextreme\u001b[0m\u001b[0;34m.\u001b[0m\u001b[0mfit\u001b[0m\u001b[0;34m(\u001b[0m\u001b[0mnp\u001b[0m\u001b[0;34m.\u001b[0m\u001b[0marray\u001b[0m\u001b[0;34m(\u001b[0m\u001b[0msamp1e1\u001b[0m\u001b[0;34m)\u001b[0m\u001b[0;34m)\u001b[0m\u001b[0;34m\u001b[0m\u001b[0;34m\u001b[0m\u001b[0m\n\u001b[0m\u001b[1;32m      2\u001b[0m \u001b[0mprint\u001b[0m\u001b[0;34m(\u001b[0m\u001b[0mshape1\u001b[0m\u001b[0;34m,\u001b[0m \u001b[0mloc1\u001b[0m\u001b[0;34m,\u001b[0m \u001b[0mscale1\u001b[0m\u001b[0;34m)\u001b[0m\u001b[0;34m\u001b[0m\u001b[0;34m\u001b[0m\u001b[0m\n",
      "\u001b[0;31mNameError\u001b[0m: name 'samp1e1' is not defined"
     ]
    }
   ],
   "source": [
    "shape1, loc1, scale1 =stats.genextreme.fit(np.array(samp1e1))\n",
    "print(shape1, loc1, scale1)"
   ]
  },
  {
   "cell_type": "code",
   "execution_count": 14,
   "metadata": {},
   "outputs": [
    {
     "name": "stdout",
     "output_type": "stream",
     "text": [
      "HJAndrews\n",
      "Hydrometeorological variables in this watershed are:\n",
      "['Discharge', 'Precipitation', 'AirTemperature', 'SolarRadiation', 'RelativeHumidity', 'WindDirection', 'WindSpeed', 'SWE', 'SnowDepth', 'Snowmelt', 'VaporPressure', 'SoilTemperature', 'SoilMoisture']\n",
      "HJAndrews\n",
      "Hydrometeorological variables in this watershed are:\n",
      "['Discharge', 'Precipitation', 'AirTemperature', 'SolarRadiation', 'RelativeHumidity', 'WindDirection', 'WindSpeed', 'SWE', 'SnowDepth', 'Snowmelt', 'VaporPressure', 'SoilTemperature', 'SoilMoisture']\n",
      "HJAndrews\n",
      "Hydrometeorological variables in this watershed are:\n",
      "['Discharge', 'Precipitation', 'AirTemperature', 'SolarRadiation', 'RelativeHumidity', 'WindDirection', 'WindSpeed', 'SWE', 'SnowDepth', 'Snowmelt', 'VaporPressure', 'SoilTemperature', 'SoilMoisture']\n"
     ]
    }
   ],
   "source": [
    "# import data \n",
    "HJ_precip = get_data(4,['Precipitation'])#.loc['2005-1-1':'2015-1-1'])\n",
    "HJ_sm = get_data(4,['SoilMoisture'])\n",
    "HJ_temp = get_data(4,['SoilTemperature'])"
   ]
  },
  {
   "cell_type": "code",
   "execution_count": 15,
   "metadata": {},
   "outputs": [
    {
     "data": {
      "text/html": [
       "<div>\n",
       "<style scoped>\n",
       "    .dataframe tbody tr th:only-of-type {\n",
       "        vertical-align: middle;\n",
       "    }\n",
       "\n",
       "    .dataframe tbody tr th {\n",
       "        vertical-align: top;\n",
       "    }\n",
       "\n",
       "    .dataframe thead th {\n",
       "        text-align: right;\n",
       "    }\n",
       "</style>\n",
       "<table border=\"1\" class=\"dataframe\">\n",
       "  <thead>\n",
       "    <tr style=\"text-align: right;\">\n",
       "      <th></th>\n",
       "      <th>CENMET_SoilMoisture_10cm</th>\n",
       "      <th>CENMET_SoilMoisture_20cm</th>\n",
       "      <th>CENMET_SoilMoisture_50cm</th>\n",
       "      <th>CENMET_SoilMoisture_100cm</th>\n",
       "      <th>PRIMET_SoilMoisture_10cm</th>\n",
       "      <th>PRIMET_SoilMoisture_20cm</th>\n",
       "      <th>PRIMET_SoilMoisture_50cm</th>\n",
       "      <th>PRIMET_SoilMoisture_100cm</th>\n",
       "      <th>UPLMET_SoilMoisture_10cm</th>\n",
       "      <th>UPLMET_SoilMoisture_20cm</th>\n",
       "      <th>UPLMET_SoilMoisture_50cm</th>\n",
       "      <th>UPLMET_SoilMoisture_100cm</th>\n",
       "      <th>VANMET_SoilMoisture_10cm</th>\n",
       "      <th>VANMET_SoilMoisture_20cm</th>\n",
       "      <th>VANMET_SoilMoisture_50cm</th>\n",
       "      <th>VANMET_SoilMoisture_100cm</th>\n",
       "    </tr>\n",
       "    <tr>\n",
       "      <th>DateTime</th>\n",
       "      <th></th>\n",
       "      <th></th>\n",
       "      <th></th>\n",
       "      <th></th>\n",
       "      <th></th>\n",
       "      <th></th>\n",
       "      <th></th>\n",
       "      <th></th>\n",
       "      <th></th>\n",
       "      <th></th>\n",
       "      <th></th>\n",
       "      <th></th>\n",
       "      <th></th>\n",
       "      <th></th>\n",
       "      <th></th>\n",
       "      <th></th>\n",
       "    </tr>\n",
       "  </thead>\n",
       "  <tbody>\n",
       "    <tr>\n",
       "      <th>2000-01-01</th>\n",
       "      <td>NaN</td>\n",
       "      <td>NaN</td>\n",
       "      <td>NaN</td>\n",
       "      <td>NaN</td>\n",
       "      <td>23.0</td>\n",
       "      <td>20.0</td>\n",
       "      <td>21.0</td>\n",
       "      <td>23.0</td>\n",
       "      <td>NaN</td>\n",
       "      <td>NaN</td>\n",
       "      <td>NaN</td>\n",
       "      <td>NaN</td>\n",
       "      <td>NaN</td>\n",
       "      <td>NaN</td>\n",
       "      <td>NaN</td>\n",
       "      <td>NaN</td>\n",
       "    </tr>\n",
       "    <tr>\n",
       "      <th>2000-01-02</th>\n",
       "      <td>NaN</td>\n",
       "      <td>NaN</td>\n",
       "      <td>NaN</td>\n",
       "      <td>NaN</td>\n",
       "      <td>28.0</td>\n",
       "      <td>25.0</td>\n",
       "      <td>26.0</td>\n",
       "      <td>27.0</td>\n",
       "      <td>NaN</td>\n",
       "      <td>NaN</td>\n",
       "      <td>NaN</td>\n",
       "      <td>NaN</td>\n",
       "      <td>NaN</td>\n",
       "      <td>NaN</td>\n",
       "      <td>NaN</td>\n",
       "      <td>NaN</td>\n",
       "    </tr>\n",
       "    <tr>\n",
       "      <th>2000-01-03</th>\n",
       "      <td>NaN</td>\n",
       "      <td>NaN</td>\n",
       "      <td>NaN</td>\n",
       "      <td>NaN</td>\n",
       "      <td>28.0</td>\n",
       "      <td>25.0</td>\n",
       "      <td>27.0</td>\n",
       "      <td>33.0</td>\n",
       "      <td>NaN</td>\n",
       "      <td>NaN</td>\n",
       "      <td>NaN</td>\n",
       "      <td>NaN</td>\n",
       "      <td>NaN</td>\n",
       "      <td>NaN</td>\n",
       "      <td>NaN</td>\n",
       "      <td>NaN</td>\n",
       "    </tr>\n",
       "    <tr>\n",
       "      <th>2000-01-04</th>\n",
       "      <td>NaN</td>\n",
       "      <td>NaN</td>\n",
       "      <td>NaN</td>\n",
       "      <td>NaN</td>\n",
       "      <td>29.0</td>\n",
       "      <td>26.0</td>\n",
       "      <td>28.0</td>\n",
       "      <td>46.0</td>\n",
       "      <td>NaN</td>\n",
       "      <td>NaN</td>\n",
       "      <td>NaN</td>\n",
       "      <td>NaN</td>\n",
       "      <td>NaN</td>\n",
       "      <td>NaN</td>\n",
       "      <td>NaN</td>\n",
       "      <td>NaN</td>\n",
       "    </tr>\n",
       "    <tr>\n",
       "      <th>2000-01-05</th>\n",
       "      <td>NaN</td>\n",
       "      <td>NaN</td>\n",
       "      <td>NaN</td>\n",
       "      <td>NaN</td>\n",
       "      <td>28.0</td>\n",
       "      <td>26.0</td>\n",
       "      <td>57.0</td>\n",
       "      <td>73.0</td>\n",
       "      <td>NaN</td>\n",
       "      <td>NaN</td>\n",
       "      <td>NaN</td>\n",
       "      <td>NaN</td>\n",
       "      <td>NaN</td>\n",
       "      <td>NaN</td>\n",
       "      <td>NaN</td>\n",
       "      <td>NaN</td>\n",
       "    </tr>\n",
       "    <tr>\n",
       "      <th>...</th>\n",
       "      <td>...</td>\n",
       "      <td>...</td>\n",
       "      <td>...</td>\n",
       "      <td>...</td>\n",
       "      <td>...</td>\n",
       "      <td>...</td>\n",
       "      <td>...</td>\n",
       "      <td>...</td>\n",
       "      <td>...</td>\n",
       "      <td>...</td>\n",
       "      <td>...</td>\n",
       "      <td>...</td>\n",
       "      <td>...</td>\n",
       "      <td>...</td>\n",
       "      <td>...</td>\n",
       "      <td>...</td>\n",
       "    </tr>\n",
       "    <tr>\n",
       "      <th>2014-12-28</th>\n",
       "      <td>13.0</td>\n",
       "      <td>17.0</td>\n",
       "      <td>25.0</td>\n",
       "      <td>23.0</td>\n",
       "      <td>28.0</td>\n",
       "      <td>25.0</td>\n",
       "      <td>26.0</td>\n",
       "      <td>32.0</td>\n",
       "      <td>41.0</td>\n",
       "      <td>29.0</td>\n",
       "      <td>46.563111</td>\n",
       "      <td>61.0</td>\n",
       "      <td>29.0</td>\n",
       "      <td>32.0</td>\n",
       "      <td>45.0</td>\n",
       "      <td>83.0</td>\n",
       "    </tr>\n",
       "    <tr>\n",
       "      <th>2014-12-29</th>\n",
       "      <td>13.0</td>\n",
       "      <td>17.0</td>\n",
       "      <td>25.0</td>\n",
       "      <td>23.0</td>\n",
       "      <td>28.0</td>\n",
       "      <td>25.0</td>\n",
       "      <td>26.0</td>\n",
       "      <td>62.0</td>\n",
       "      <td>40.0</td>\n",
       "      <td>29.0</td>\n",
       "      <td>46.563111</td>\n",
       "      <td>61.0</td>\n",
       "      <td>29.0</td>\n",
       "      <td>32.0</td>\n",
       "      <td>43.0</td>\n",
       "      <td>80.0</td>\n",
       "    </tr>\n",
       "    <tr>\n",
       "      <th>2014-12-30</th>\n",
       "      <td>13.0</td>\n",
       "      <td>17.0</td>\n",
       "      <td>25.0</td>\n",
       "      <td>23.0</td>\n",
       "      <td>24.0</td>\n",
       "      <td>23.0</td>\n",
       "      <td>26.0</td>\n",
       "      <td>67.0</td>\n",
       "      <td>40.0</td>\n",
       "      <td>28.0</td>\n",
       "      <td>44.919323</td>\n",
       "      <td>59.0</td>\n",
       "      <td>29.0</td>\n",
       "      <td>32.0</td>\n",
       "      <td>42.0</td>\n",
       "      <td>75.0</td>\n",
       "    </tr>\n",
       "    <tr>\n",
       "      <th>2014-12-31</th>\n",
       "      <td>13.0</td>\n",
       "      <td>17.0</td>\n",
       "      <td>24.0</td>\n",
       "      <td>23.0</td>\n",
       "      <td>23.0</td>\n",
       "      <td>21.0</td>\n",
       "      <td>23.0</td>\n",
       "      <td>55.0</td>\n",
       "      <td>39.0</td>\n",
       "      <td>28.0</td>\n",
       "      <td>44.919323</td>\n",
       "      <td>54.0</td>\n",
       "      <td>29.0</td>\n",
       "      <td>31.0</td>\n",
       "      <td>41.0</td>\n",
       "      <td>72.0</td>\n",
       "    </tr>\n",
       "    <tr>\n",
       "      <th>2015-01-01</th>\n",
       "      <td>13.0</td>\n",
       "      <td>17.0</td>\n",
       "      <td>24.0</td>\n",
       "      <td>22.0</td>\n",
       "      <td>22.0</td>\n",
       "      <td>20.0</td>\n",
       "      <td>22.0</td>\n",
       "      <td>27.0</td>\n",
       "      <td>38.0</td>\n",
       "      <td>27.0</td>\n",
       "      <td>43.275536</td>\n",
       "      <td>50.0</td>\n",
       "      <td>29.0</td>\n",
       "      <td>31.0</td>\n",
       "      <td>41.0</td>\n",
       "      <td>71.0</td>\n",
       "    </tr>\n",
       "  </tbody>\n",
       "</table>\n",
       "<p>5480 rows × 16 columns</p>\n",
       "</div>"
      ],
      "text/plain": [
       "            CENMET_SoilMoisture_10cm  CENMET_SoilMoisture_20cm  \\\n",
       "DateTime                                                         \n",
       "2000-01-01                       NaN                       NaN   \n",
       "2000-01-02                       NaN                       NaN   \n",
       "2000-01-03                       NaN                       NaN   \n",
       "2000-01-04                       NaN                       NaN   \n",
       "2000-01-05                       NaN                       NaN   \n",
       "...                              ...                       ...   \n",
       "2014-12-28                      13.0                      17.0   \n",
       "2014-12-29                      13.0                      17.0   \n",
       "2014-12-30                      13.0                      17.0   \n",
       "2014-12-31                      13.0                      17.0   \n",
       "2015-01-01                      13.0                      17.0   \n",
       "\n",
       "            CENMET_SoilMoisture_50cm  CENMET_SoilMoisture_100cm  \\\n",
       "DateTime                                                          \n",
       "2000-01-01                       NaN                        NaN   \n",
       "2000-01-02                       NaN                        NaN   \n",
       "2000-01-03                       NaN                        NaN   \n",
       "2000-01-04                       NaN                        NaN   \n",
       "2000-01-05                       NaN                        NaN   \n",
       "...                              ...                        ...   \n",
       "2014-12-28                      25.0                       23.0   \n",
       "2014-12-29                      25.0                       23.0   \n",
       "2014-12-30                      25.0                       23.0   \n",
       "2014-12-31                      24.0                       23.0   \n",
       "2015-01-01                      24.0                       22.0   \n",
       "\n",
       "            PRIMET_SoilMoisture_10cm  PRIMET_SoilMoisture_20cm  \\\n",
       "DateTime                                                         \n",
       "2000-01-01                      23.0                      20.0   \n",
       "2000-01-02                      28.0                      25.0   \n",
       "2000-01-03                      28.0                      25.0   \n",
       "2000-01-04                      29.0                      26.0   \n",
       "2000-01-05                      28.0                      26.0   \n",
       "...                              ...                       ...   \n",
       "2014-12-28                      28.0                      25.0   \n",
       "2014-12-29                      28.0                      25.0   \n",
       "2014-12-30                      24.0                      23.0   \n",
       "2014-12-31                      23.0                      21.0   \n",
       "2015-01-01                      22.0                      20.0   \n",
       "\n",
       "            PRIMET_SoilMoisture_50cm  PRIMET_SoilMoisture_100cm  \\\n",
       "DateTime                                                          \n",
       "2000-01-01                      21.0                       23.0   \n",
       "2000-01-02                      26.0                       27.0   \n",
       "2000-01-03                      27.0                       33.0   \n",
       "2000-01-04                      28.0                       46.0   \n",
       "2000-01-05                      57.0                       73.0   \n",
       "...                              ...                        ...   \n",
       "2014-12-28                      26.0                       32.0   \n",
       "2014-12-29                      26.0                       62.0   \n",
       "2014-12-30                      26.0                       67.0   \n",
       "2014-12-31                      23.0                       55.0   \n",
       "2015-01-01                      22.0                       27.0   \n",
       "\n",
       "            UPLMET_SoilMoisture_10cm  UPLMET_SoilMoisture_20cm  \\\n",
       "DateTime                                                         \n",
       "2000-01-01                       NaN                       NaN   \n",
       "2000-01-02                       NaN                       NaN   \n",
       "2000-01-03                       NaN                       NaN   \n",
       "2000-01-04                       NaN                       NaN   \n",
       "2000-01-05                       NaN                       NaN   \n",
       "...                              ...                       ...   \n",
       "2014-12-28                      41.0                      29.0   \n",
       "2014-12-29                      40.0                      29.0   \n",
       "2014-12-30                      40.0                      28.0   \n",
       "2014-12-31                      39.0                      28.0   \n",
       "2015-01-01                      38.0                      27.0   \n",
       "\n",
       "            UPLMET_SoilMoisture_50cm  UPLMET_SoilMoisture_100cm  \\\n",
       "DateTime                                                          \n",
       "2000-01-01                       NaN                        NaN   \n",
       "2000-01-02                       NaN                        NaN   \n",
       "2000-01-03                       NaN                        NaN   \n",
       "2000-01-04                       NaN                        NaN   \n",
       "2000-01-05                       NaN                        NaN   \n",
       "...                              ...                        ...   \n",
       "2014-12-28                 46.563111                       61.0   \n",
       "2014-12-29                 46.563111                       61.0   \n",
       "2014-12-30                 44.919323                       59.0   \n",
       "2014-12-31                 44.919323                       54.0   \n",
       "2015-01-01                 43.275536                       50.0   \n",
       "\n",
       "            VANMET_SoilMoisture_10cm  VANMET_SoilMoisture_20cm  \\\n",
       "DateTime                                                         \n",
       "2000-01-01                       NaN                       NaN   \n",
       "2000-01-02                       NaN                       NaN   \n",
       "2000-01-03                       NaN                       NaN   \n",
       "2000-01-04                       NaN                       NaN   \n",
       "2000-01-05                       NaN                       NaN   \n",
       "...                              ...                       ...   \n",
       "2014-12-28                      29.0                      32.0   \n",
       "2014-12-29                      29.0                      32.0   \n",
       "2014-12-30                      29.0                      32.0   \n",
       "2014-12-31                      29.0                      31.0   \n",
       "2015-01-01                      29.0                      31.0   \n",
       "\n",
       "            VANMET_SoilMoisture_50cm  VANMET_SoilMoisture_100cm  \n",
       "DateTime                                                         \n",
       "2000-01-01                       NaN                        NaN  \n",
       "2000-01-02                       NaN                        NaN  \n",
       "2000-01-03                       NaN                        NaN  \n",
       "2000-01-04                       NaN                        NaN  \n",
       "2000-01-05                       NaN                        NaN  \n",
       "...                              ...                        ...  \n",
       "2014-12-28                      45.0                       83.0  \n",
       "2014-12-29                      43.0                       80.0  \n",
       "2014-12-30                      42.0                       75.0  \n",
       "2014-12-31                      41.0                       72.0  \n",
       "2015-01-01                      41.0                       71.0  \n",
       "\n",
       "[5480 rows x 16 columns]"
      ]
     },
     "execution_count": 15,
     "metadata": {},
     "output_type": "execute_result"
    }
   ],
   "source": [
    "HJ_sm.loc['2000-1-1':'2015-1-1']"
   ]
  },
  {
   "cell_type": "code",
   "execution_count": 16,
   "metadata": {},
   "outputs": [
    {
     "data": {
      "text/plain": [
       "<AxesSubplot:title={'center':'Maximum annual prcipitation'}, ylabel='Frequency'>"
      ]
     },
     "execution_count": 16,
     "metadata": {},
     "output_type": "execute_result"
    },
    {
     "data": {
      "image/png": "[encoded data removed]",
      "text/plain": [
       "<Figure size 2160x360 with 1 Axes>"
      ]
     },
     "metadata": {
      "needs_background": "light"
     },
     "output_type": "display_data"
    },
    {
     "data": {
      "image/png": "[encoded data removed]",
      "text/plain": [
       "<Figure size 2160x360 with 1 Axes>"
      ]
     },
     "metadata": {
      "needs_background": "light"
     },
     "output_type": "display_data"
    }
   ],
   "source": [
    "pd.DataFrame(sta).plot(kind='line', figsize=[30,5], fontsize = 20, title = 'Maximum annual prcipitation')\n",
    "pd.DataFrame(sta).plot(kind='hist', figsize=[30,5], fontsize = 20, title = 'Maximum annual prcipitation', bins=25)"
   ]
  },
  {
   "cell_type": "code",
   "execution_count": 17,
   "metadata": {},
   "outputs": [
    {
     "name": "stdout",
     "output_type": "stream",
     "text": [
      "0.016342189073658288 10.04588685997133 1.02372113657318\n"
     ]
    }
   ],
   "source": [
    "# use scipy.stats to get the 'best guess' values of parameters\n",
    "shape1, loc1, scale1 =stats.genextreme.fit(sta)\n",
    "print(shape1, loc1, scale1)"
   ]
  },
  {
   "cell_type": "code",
   "execution_count": 18,
   "metadata": {},
   "outputs": [],
   "source": [
    "# write the code for inference using the Bayesian 'machinery'\n",
    "\n",
    "#define prior\n",
    "def log_prior(par):\n",
    "    par = par[1:3]\n",
    "    if(all(i >= -10 for i in par)):\n",
    "        return 0\n",
    "    else:\n",
    "        return -np.inf\n",
    "\n",
    "#define likelihood function\n",
    "\n",
    "def log_lik_gev(par,data):\n",
    "    #x[0]=mu, x[1]=sigma (new or current)\n",
    "    #data = the observation\n",
    "    return np.sum(np.log(stats.genextreme(par[0],par[1],par[2]).pdf([data])))\n",
    "\n",
    "#define posterior\n",
    "def log_post(par, data):\n",
    "    if (log_prior(par)==-np.inf):\n",
    "        lp = log_prior(par)\n",
    "    else: \n",
    "        lp = log_lik_gev(par,data)\n",
    "    return lp    \n"
   ]
  },
  {
   "cell_type": "code",
   "execution_count": 19,
   "metadata": {},
   "outputs": [
    {
     "data": {
      "text/plain": [
       "0"
      ]
     },
     "execution_count": 19,
     "metadata": {},
     "output_type": "execute_result"
    }
   ],
   "source": [
    "# Test log prior\n",
    "log_prior((-0.1,-0.1,-0.1))"
   ]
  },
  {
   "cell_type": "code",
   "execution_count": 20,
   "metadata": {},
   "outputs": [
    {
     "data": {
      "text/plain": [
       "(-49035.24089516716, -49418.22078802975)"
      ]
     },
     "execution_count": 20,
     "metadata": {},
     "output_type": "execute_result"
    }
   ],
   "source": [
    "# check whether the functions work\n",
    "a = log_lik_gev((-0.1,0.1,0.1), sta)\n",
    "b = log_post((-0.1,-0.1,0.1), sta)\n",
    "a, b"
   ]
  },
  {
   "cell_type": "code",
   "execution_count": 21,
   "metadata": {},
   "outputs": [],
   "source": [
    "#Define jumpt distribution or the transition model\n",
    "\n",
    "transition_model = lambda x: x+np.multiply(np.random.normal(0,0.1,len(x)),np.ones(len(x)))\n",
    "\n",
    "#Defines whether to accept or reject the new sample\n",
    "def acceptance(x, x_new):\n",
    "    if x_new>x:\n",
    "        return True\n",
    "    else:\n",
    "        accept=np.random.uniform(0,1)\n",
    "        # Since we did a log likelihood, we need to exponentiate in order to compare to the random number\n",
    "        # less likely x_new are less likely to be accepted\n",
    "        return (accept < (np.exp(x_new-x)))\n",
    "\n",
    "# Define the MCMC algorithm\n",
    "    \n",
    "def metropolis_hastings(likelihood_computer, transition_model, param_init,iterations,data,acceptance_rule):\n",
    "    # likelihood_computer(x,data): returns the likelihood that these parameters generated the data\n",
    "    # transition_model(x): a function that draws a sample from a symmetric distribution and returns it\n",
    "    # param_init: a starting sample\n",
    "    # iterations: number of accepted to generated\n",
    "    # data: the data that we wish to model\n",
    "    # acceptance_rule(x,x_new): decides whether to accept or reject the new sample\n",
    "    x = param_init\n",
    "    \n",
    "    accepted = []\n",
    "    rejected = []   \n",
    "    for i in range(iterations):\n",
    "        x_new =  transition_model(x)    \n",
    "        x_lik = likelihood_computer(x,data)\n",
    "        x_new_lik = likelihood_computer(x_new,data) \n",
    "        \n",
    "        if (acceptance_rule(x_lik,x_new_lik)):            \n",
    "            x = x_new\n",
    "            accepted.append(x_new)\n",
    "        else:\n",
    "            rejected.append(x_new)\n",
    "            accepted.append(x)\n",
    "                \n",
    "    return np.array(accepted), np.array(rejected)"
   ]
  },
  {
   "cell_type": "code",
   "execution_count": 22,
   "metadata": {},
   "outputs": [
    {
     "ename": "NameError",
     "evalue": "name 'samp1e1' is not defined",
     "output_type": "error",
     "traceback": [
      "\u001b[0;31m---------------------------------------------------------------------------\u001b[0m",
      "\u001b[0;31mNameError\u001b[0m                                 Traceback (most recent call last)",
      "\u001b[0;32m<ipython-input-22-da3b4d71d894>\u001b[0m in \u001b[0;36m<module>\u001b[0;34m\u001b[0m\n\u001b[0;32m----> 1\u001b[0;31m \u001b[0maccepted\u001b[0m\u001b[0;34m,\u001b[0m \u001b[0mrejected\u001b[0m \u001b[0;34m=\u001b[0m \u001b[0mmetropolis_hastings\u001b[0m\u001b[0;34m(\u001b[0m\u001b[0mlikelihood_computer\u001b[0m \u001b[0;34m=\u001b[0m \u001b[0mlog_post\u001b[0m\u001b[0;34m,\u001b[0m \u001b[0mtransition_model\u001b[0m \u001b[0;34m=\u001b[0m \u001b[0mtransition_model\u001b[0m\u001b[0;34m,\u001b[0m\u001b[0mparam_init\u001b[0m \u001b[0;34m=\u001b[0m \u001b[0;34m(\u001b[0m\u001b[0;36m0\u001b[0m\u001b[0;34m,\u001b[0m\u001b[0;36m10\u001b[0m\u001b[0;34m,\u001b[0m\u001b[0;36m1\u001b[0m\u001b[0;34m)\u001b[0m\u001b[0;34m,\u001b[0m \u001b[0miterations\u001b[0m \u001b[0;34m=\u001b[0m \u001b[0;36m15000\u001b[0m\u001b[0;34m,\u001b[0m \u001b[0mdata\u001b[0m \u001b[0;34m=\u001b[0m \u001b[0mnp\u001b[0m\u001b[0;34m.\u001b[0m\u001b[0marray\u001b[0m\u001b[0;34m(\u001b[0m\u001b[0msamp1e1\u001b[0m\u001b[0;34m)\u001b[0m\u001b[0;34m,\u001b[0m \u001b[0macceptance_rule\u001b[0m \u001b[0;34m=\u001b[0m \u001b[0macceptance\u001b[0m\u001b[0;34m)\u001b[0m\u001b[0;34m\u001b[0m\u001b[0;34m\u001b[0m\u001b[0m\n\u001b[0m",
      "\u001b[0;31mNameError\u001b[0m: name 'samp1e1' is not defined"
     ]
    }
   ],
   "source": [
    "accepted, rejected = metropolis_hastings(likelihood_computer = log_post, transition_model = transition_model,param_init = (0,10,1), iterations = 15000, data = np.array(samp1e1), acceptance_rule = acceptance)\n"
   ]
  },
  {
   "cell_type": "code",
   "execution_count": null,
   "metadata": {},
   "outputs": [],
   "source": [
    "sns.set(style=\"ticks\")\n",
    "sns.pairplot(pd.DataFrame(accepted[1000:15000,:], columns = ['shape','location','scale']))"
   ]
  },
  {
   "cell_type": "code",
   "execution_count": null,
   "metadata": {},
   "outputs": [],
   "source": [
    "shape, loc, scale = accepted[:,0].mean(), accepted[:,1].mean(), accepted[:,2].mean()\n",
    "shape, loc, scale # infered parameter "
   ]
  },
  {
   "cell_type": "code",
   "execution_count": null,
   "metadata": {},
   "outputs": [],
   "source": [
    "spread = accepted[:,0].std(), accepted[:,1].std(), accepted[:,2].std()\n",
    "spread"
   ]
  },
  {
   "cell_type": "code",
   "execution_count": null,
   "metadata": {},
   "outputs": [],
   "source": [
    "accepted, rejected = metropolis_hastings(likelihood_computer = log_post, transition_model = transition_model,param_init = (0,10,1), iterations = 15000, data = sta, acceptance_rule = acceptance)\n"
   ]
  },
  {
   "cell_type": "code",
   "execution_count": null,
   "metadata": {},
   "outputs": [],
   "source": [
    "sns.set(style=\"ticks\")\n",
    "sns.pairplot(pd.DataFrame(accepted[1000:15000,:], columns = ['shape','location','scale']))"
   ]
  },
  {
   "cell_type": "code",
   "execution_count": null,
   "metadata": {},
   "outputs": [],
   "source": [
    "shape, loc, scale = accepted[:,0].mean(), accepted[:,1].mean(), accepted[:,2].mean()\n",
    "shape, loc, scale # infered parameter "
   ]
  },
  {
   "cell_type": "code",
   "execution_count": null,
   "metadata": {},
   "outputs": [],
   "source": [
    "spread = accepted[:,0].std(), accepted[:,1].std(), accepted[:,2].std()\n",
    "spread"
   ]
  },
  {
   "cell_type": "code",
   "execution_count": null,
   "metadata": {},
   "outputs": [],
   "source": [
    "accepted, rejected = metropolis_hastings(likelihood_computer = log_post, transition_model = transition_model,param_init = (0,10,1), iterations = 15000, data = non_sta, acceptance_rule = acceptance)\n"
   ]
  },
  {
   "cell_type": "code",
   "execution_count": null,
   "metadata": {},
   "outputs": [],
   "source": [
    "sns.set(style=\"ticks\")\n",
    "sns.pairplot(pd.DataFrame(accepted[1000:15000,:], columns = ['shape','location','scale']))"
   ]
  },
  {
   "cell_type": "code",
   "execution_count": null,
   "metadata": {},
   "outputs": [],
   "source": [
    "shape, loc, scale = accepted[:,0].mean(), accepted[:,1].mean(), accepted[:,2].mean()\n",
    "shape, loc, scale # infered parameter "
   ]
  },
  {
   "cell_type": "code",
   "execution_count": null,
   "metadata": {},
   "outputs": [],
   "source": [
    "spread = accepted[:,0].std(), accepted[:,1].std(), accepted[:,2].std()\n",
    "spread"
   ]
  },
  {
   "cell_type": "markdown",
   "metadata": {},
   "source": [
    "# Try infering the bivariate distribution (with copulas)"
   ]
  },
  {
   "cell_type": "code",
   "execution_count": null,
   "metadata": {},
   "outputs": [],
   "source": [
    "# Try to fit a copula\n",
    "#Source 1:  https://github.com/blent-ai/pycopula\n",
    "#Source 2:  https://pypi.org/project/copulas/\n",
    "\n",
    "#from copulas.bivariate import Gumbel\n",
    "from pycopula.copula import ArchimedeanCopula\n",
    "from pycopula.copula import GaussianCopula"
   ]
  },
  {
   "cell_type": "code",
   "execution_count": null,
   "metadata": {},
   "outputs": [],
   "source": [
    "# create bivariate samples with a dependence structure\n",
    "r = stats.genextreme.rvs( size=100, c =0,  loc=10, scale=1)\n",
    "d = r + np.random.normal(size=100)\n",
    "\n",
    "data = pd.DataFrame({'r':r,'d':d})\n",
    "\n",
    "data_cdf = pd.DataFrame({'r':stats.genextreme.cdf(r,c =0,  loc=10, scale=1), \\\n",
    "                         'd':stats.genextreme.cdf(d,c =0,  loc=10, scale=1)})\n",
    "data_cdf.plot.scatter(x='r',y ='d', c='DarkBlue')"
   ]
  },
  {
   "cell_type": "code",
   "execution_count": null,
   "metadata": {},
   "outputs": [],
   "source": [
    "archimedean = ArchimedeanCopula(family=\"frank\", dim=2)\n",
    "archimedean.fit(np.array(data_cdf), method=\"cmle\")"
   ]
  },
  {
   "cell_type": "code",
   "execution_count": null,
   "metadata": {},
   "outputs": [],
   "source": [
    "range(len(data_cdf))[1]"
   ]
  },
  {
   "cell_type": "code",
   "execution_count": null,
   "metadata": {},
   "outputs": [],
   "source": [
    "def cdf_2d(copula, step=40):\n",
    "\tu = np.linspace(1e-4, 1.-1e-4, num=step)\n",
    "\tv = np.linspace(1e-4, 1.-1e-4, num=step)\n",
    "\tC = []\n",
    "\n",
    "\tfor i in range(len(u)):\n",
    "\t\trow = []\n",
    "\t\tfor j in range(len(v)):\n",
    "\t\t\trow.append(copula.cdf([ u[i], v[j] ]))\n",
    "\t\tC.append(row)\n",
    "\n",
    "\treturn u, v, np.asarray(C)"
   ]
  },
  {
   "cell_type": "code",
   "execution_count": null,
   "metadata": {},
   "outputs": [],
   "source": [
    "def pdf_2d(copula, step=40, zclip=None):\n",
    "\tif zclip == None:\n",
    "\t\tzclip = 5\n",
    "\tif zclip <= 0:\n",
    "\t\traise ValueError(\"The z-clip value must be strictly greater than 0.\")\n",
    "\tu = np.linspace(1e-4, 1.-1e-4, num=step)\n",
    "\tv = np.linspace(1e-4, 1.-1e-4, num=step)\n",
    "\tC = []\n",
    "\n",
    "\tfor i in range(len(u)):\n",
    "\t\trow = []\n",
    "\t\tfor j in range(len(v)):\n",
    "\t\t\tif zclip != None:\n",
    "\t\t\t\trow.append(min(copula.pdf([ u[i], v[j] ]), zclip))\n",
    "\t\t\telse:\n",
    "\t\t\t\trow.append(copula.pdf([ u[i], v[j] ]))\n",
    "\t\tC.append(row)"
   ]
  },
  {
   "cell_type": "code",
   "execution_count": null,
   "metadata": {},
   "outputs": [],
   "source": [
    "from matplotlib import cm\n",
    "from mpl_toolkits.mplot3d import Axes3D\n",
    "from pycopula.visualization import pdf_2d, cdf_2d\n",
    "\n",
    "\n",
    "# Visualization of CDF and PDF\n",
    "u, v, c = cdf_2d(archimedean)\n",
    "u, v, c = pdf_2d(archimedean)\n",
    "\n",
    "# Plotting\n",
    "fig = plt.figure()\n",
    "ax = fig.add_subplot(121, projection='3d', title=\"rainfall-discharge (copula PDF)\")\n",
    "X, Y = np.meshgrid(u, v)\n",
    "\n",
    "ax.set_zlim(0, 5)\n",
    "ax.plot_surface(X, Y, c, cmap=cm.Blues)\n",
    "ax.plot_wireframe(X, Y, c, color='black', alpha=0.3)\n",
    "\n",
    "ax = fig.add_subplot(122, title=\"rainfall-discharge (copula PDF)\")\n",
    "ax.contour(X, Y, c, levels = np.arange(0,5,0.15))\n",
    "fig.tight_layout()\n",
    "\n",
    "plt.show()"
   ]
  },
  {
   "cell_type": "code",
   "execution_count": null,
   "metadata": {},
   "outputs": [],
   "source": [
    "# write the code for inference using the Bayesian 'machinery'\n",
    "\n",
    "transition_model = lambda x: x+np.multiply(np.random.normal(0,0.1,len(x)),np.ones(len(x)))\n",
    "\n",
    "#define prior\n",
    "def log_prior(par):\n",
    "    par = par[4]\n",
    "    if(par >= -1 and par <= 10 ):\n",
    "        return 0\n",
    "    else:\n",
    "        return -np.inf\n",
    "\n",
    "#define likelihood function\n",
    "\n",
    "def log_lik_gev(par,data):\n",
    "\n",
    "    p1 = np.sum(np.log(stats.genextreme(0,par[0],par[1]).pdf([data['r']])))\n",
    "    p2 = np.sum(np.log(stats.genextreme(0,par[2],par[3]).pdf([data['d']])))\n",
    "    \n",
    "    data_cdf = pd.DataFrame({'r':stats.genextreme.cdf(data['r'],c =0,  loc=10, scale=1), \\\n",
    "                         'd':stats.genextreme.cdf(data['d'],c =0,  loc=10, scale=1)})\n",
    "    p3 = np.zeros(len(data_cdf))\n",
    "    for i in range(len(data_cdf)):\n",
    "        p3[i] =  archimedean.pdf_param(np.array(data_cdf)[i,:], theta = par[4])\n",
    "    p3 = np.sum(np.log(p3))\n",
    "    return p1 + p2 + p3\n",
    "\n",
    "#define posterior\n",
    "def log_post(par, data):\n",
    "    if (log_prior(par)==-np.inf):\n",
    "        lp = log_prior(par)\n",
    "    else: \n",
    "        lp = log_lik_gev(par,data)\n",
    "    return lp    \n"
   ]
  },
  {
   "cell_type": "code",
   "execution_count": null,
   "metadata": {},
   "outputs": [],
   "source": [
    "log_post((10,1,10,1,0.5), data)"
   ]
  },
  {
   "cell_type": "code",
   "execution_count": null,
   "metadata": {},
   "outputs": [],
   "source": [
    "accepted, rejected = metropolis_hastings(likelihood_computer = log_post, transition_model = transition_model,param_init = (10,1,10,1,0.5), iterations = 15000, data = data, acceptance_rule = acceptance)\n"
   ]
  },
  {
   "cell_type": "code",
   "execution_count": null,
   "metadata": {},
   "outputs": [],
   "source": [
    "shape, loc, scale = accepted[:,0].mean(), accepted[:,1].mean(), accepted[:,2].mean()\n",
    "shape, loc, scale # infered parameter "
   ]
  },
  {
   "cell_type": "code",
   "execution_count": null,
   "metadata": {},
   "outputs": [],
   "source": [
    "spread = accepted[:,0].std(), accepted[:,1].std(), accepted[:,2].std()\n",
    "spread"
   ]
  },
  {
   "cell_type": "code",
   "execution_count": null,
   "metadata": {},
   "outputs": [],
   "source": [
    "sns.set(style=\"ticks\")\n",
    "sns.pairplot(pd.DataFrame(accepted[1000:15000,:], columns = ['location1','scale1','location2','scale2','copula']))"
   ]
  },
  {
   "cell_type": "code",
   "execution_count": null,
   "metadata": {},
   "outputs": [],
   "source": [
    "accepted, rejected = metropolis_hastings(likelihood_computer = log_post, transition_model = transition_model,param_init = (10,1,10,1,0.5), iterations = 15000, data = data.iloc[1:20], acceptance_rule = acceptance)\n"
   ]
  },
  {
   "cell_type": "code",
   "execution_count": null,
   "metadata": {},
   "outputs": [],
   "source": [
    "spread = accepted[:,0].std(), accepted[:,1].std(), accepted[:,2].std()\n",
    "spread"
   ]
  },
  {
   "cell_type": "code",
   "execution_count": null,
   "metadata": {},
   "outputs": [],
   "source": [
    "sns.set(style=\"ticks\")\n",
    "sns.pairplot(pd.DataFrame(accepted[1000:15000,:], columns = ['location1','scale1','location2','scale2','copula']))"
   ]
  },
  {
   "cell_type": "markdown",
   "metadata": {},
   "source": [
    "# Real case study"
   ]
  },
  {
   "cell_type": "code",
   "execution_count": null,
   "metadata": {},
   "outputs": [],
   "source": [
    "# real case study\n",
    "rain = np.array(get_data(4,['Precipitation']).loc['1980-1-1':'2010-1-1']['PRIMET_Precipitation'])\n",
    "discharge = np.asarray(get_data(4,['Discharge']).loc['1980-1-1':'2010-1-1']['GSLOOK_Discharge'])"
   ]
  },
  {
   "cell_type": "code",
   "execution_count": null,
   "metadata": {},
   "outputs": [],
   "source": [
    "from scipy.signal import argrelextrema   # get locat extrema"
   ]
  },
  {
   "cell_type": "code",
   "execution_count": null,
   "metadata": {},
   "outputs": [],
   "source": [
    "def moving_average(x, w):\n",
    "    return np.convolve(x, np.ones(w), 'valid') / w"
   ]
  },
  {
   "cell_type": "code",
   "execution_count": null,
   "metadata": {},
   "outputs": [],
   "source": [
    "rain_ma = moving_average(rain, 30)\n",
    "discharge_ma = moving_average(discharge, 30)"
   ]
  },
  {
   "cell_type": "code",
   "execution_count": null,
   "metadata": {},
   "outputs": [],
   "source": [
    "rain_peak = rain_ma[argrelextrema(rain_ma, np.greater)]\n",
    "discharge_peak = discharge_ma[argrelextrema(discharge_ma, np.greater)]"
   ]
  },
  {
   "cell_type": "code",
   "execution_count": null,
   "metadata": {
    "scrolled": false
   },
   "outputs": [],
   "source": [
    "plt.plot(discharge_monthly_max)"
   ]
  },
  {
   "cell_type": "code",
   "execution_count": null,
   "metadata": {
    "scrolled": false
   },
   "outputs": [],
   "source": [
    "rain_monthly = rain[0:10950].reshape(30,365)\n",
    "discharge_monthly = discharge[0:10950].reshape(30,365)\n",
    "rain_monthly_max = np.amax(rain_monthly, axis=0)\n",
    "discharge_monthly_max = np.amax(discharge_monthly, axis=0)"
   ]
  },
  {
   "cell_type": "code",
   "execution_count": null,
   "metadata": {
    "scrolled": true
   },
   "outputs": [],
   "source": [
    "sns.set(style=\"ticks\")\n",
    "sns.pairplot(pd.DataFrame({'r':rain_monthly_max, 'd':discharge_monthly_max}))"
   ]
  },
  {
   "cell_type": "code",
   "execution_count": null,
   "metadata": {},
   "outputs": [],
   "source": [
    "HJA = pd.DataFrame({'r':rain_monthly_max, 'd':discharge_monthly_max})"
   ]
  },
  {
   "cell_type": "code",
   "execution_count": null,
   "metadata": {},
   "outputs": [],
   "source": [
    "stats.genextreme.fit(rain_monthly_max)"
   ]
  },
  {
   "cell_type": "code",
   "execution_count": null,
   "metadata": {},
   "outputs": [],
   "source": [
    "stats.genextreme.fit(discharge_monthly_max)"
   ]
  },
  {
   "cell_type": "code",
   "execution_count": null,
   "metadata": {},
   "outputs": [],
   "source": [
    "HJA = pd.DataFrame({'r':rain_monthly_max, 'd':discharge_monthly_max})\n",
    "\n",
    "HJA_cdf = pd.DataFrame({'r':stats.genextreme.cdf(rain_monthly_max,c =-0.17,  loc=27.2, scale=11), \\\n",
    "                         'd':stats.genextreme.cdf(discharge_monthly_max,c =-0.6,  loc=99, scale=82)})\n",
    "HJA_cdf.plot.scatter(x='r',y ='d', c='DarkBlue')"
   ]
  },
  {
   "cell_type": "code",
   "execution_count": null,
   "metadata": {},
   "outputs": [],
   "source": [
    "archimedean = ArchimedeanCopula(family = \"clayton\", dim=2)\n",
    "archimedean.fit(np.array(HJA_cdf), method=\"cmle\")"
   ]
  },
  {
   "cell_type": "code",
   "execution_count": null,
   "metadata": {},
   "outputs": [],
   "source": [
    "transition_model = lambda x: x+np.multiply(np.random.normal(0,0.1,len(x)),[10,10,250,250,15])\n",
    "\n",
    "#define prior for amh\n",
    "def log_prior(par):\n",
    "    par = par[4]\n",
    "    if(par > 1):\n",
    "        return 0\n",
    "    else:\n",
    "        return -np.inf\n",
    "    \n",
    "accepted, rejected = metropolis_hastings(likelihood_computer = log_post, transition_model = transition_model,param_init = ( 27, 12, 99, 82, 0.75), iterations = 15000, data = HJA.loc[200:380], acceptance_rule = acceptance)\n"
   ]
  },
  {
   "cell_type": "code",
   "execution_count": null,
   "metadata": {},
   "outputs": [],
   "source": [
    "spread = accepted[:,0].std(), accepted[:,1].std(), accepted[:,2].std()\n",
    "spread"
   ]
  },
  {
   "cell_type": "code",
   "execution_count": null,
   "metadata": {},
   "outputs": [],
   "source": [
    "sns.set(style=\"ticks\")\n",
    "sns.pairplot(pd.DataFrame(accepted[1000:15000,:], columns = ['location1','scale1','location2','scale2','copula']))"
   ]
  },
  {
   "cell_type": "code",
   "execution_count": null,
   "metadata": {},
   "outputs": [],
   "source": [
    "transition_model = lambda x: x+np.multiply(np.random.normal(0,0.1,len(x)),[10,10,25000,25000,150])\n",
    "accepted, rejected = metropolis_hastings(likelihood_computer = log_post, transition_model = transition_model,param_init = ( 27, 12, 99, 82, 0.75), iterations = 15000, data = HJA, acceptance_rule = acceptance)\n"
   ]
  },
  {
   "cell_type": "code",
   "execution_count": null,
   "metadata": {},
   "outputs": [],
   "source": [
    "spread = accepted[:,0].std(), accepted[:,1].std(), accepted[:,2].std()\n",
    "spread"
   ]
  },
  {
   "cell_type": "code",
   "execution_count": null,
   "metadata": {},
   "outputs": [],
   "source": [
    "sns.set(style=\"ticks\")\n",
    "sns.pairplot(pd.DataFrame(accepted[1000:15000,:], columns = ['location1','scale1','location2','scale2','copula']))"
   ]
  },
  {
   "cell_type": "markdown",
   "metadata": {},
   "source": [
    "# Case study 2"
   ]
  },
  {
   "cell_type": "code",
   "execution_count": null,
   "metadata": {},
   "outputs": [],
   "source": [
    "#real case study\n",
    "rain = np.array(get_data(13,['Precipitation']).loc['1980-1-1':'2010-1-1']['WS7_Precipitation'])\n",
    "discharge = np.asarray(get_data(13,['Discharge']).loc['1980-1-1':'2010-1-1']['WS7_Discharge'])\n",
    "\n",
    "rain_monthly = rain[0:10950].reshape(30,365)\n",
    "discharge_monthly = discharge[0:10950].reshape(30,365)\n",
    "rain_monthly_max = np.amax(rain_monthly, axis=0)\n",
    "discharge_monthly_max = np.amax(discharge_monthly, axis=0)"
   ]
  },
  {
   "cell_type": "code",
   "execution_count": null,
   "metadata": {},
   "outputs": [],
   "source": [
    "discharge_monthly"
   ]
  },
  {
   "cell_type": "code",
   "execution_count": null,
   "metadata": {
    "scrolled": false
   },
   "outputs": [],
   "source": [
    "sns.set(style=\"ticks\")\n",
    "sns.pairplot(pd.DataFrame({'r':rain_monthly_max, 'd':discharge_monthly_max}))"
   ]
  },
  {
   "cell_type": "code",
   "execution_count": null,
   "metadata": {},
   "outputs": [],
   "source": [
    "print(stats.genextreme.fit(rain_monthly_max))\n",
    "print(stats.genextreme.fit(discharge_monthly_max))"
   ]
  },
  {
   "cell_type": "code",
   "execution_count": null,
   "metadata": {},
   "outputs": [],
   "source": [
    "HB = pd.DataFrame({'r':rain_monthly_max, 'd':discharge_monthly_max})\n",
    "HB_cdf = pd.DataFrame({'r':stats.genextreme.cdf(rain_monthly_max,c =-0.17,  loc=27, scale=11), \\\n",
    "                         'd':stats.genextreme.cdf(discharge_monthly_max,c =-0.603,  loc= 99, scale=82)})\n",
    "HB_cdf.plot.scatter(x='r',y ='d', c='DarkBlue')"
   ]
  },
  {
   "cell_type": "code",
   "execution_count": null,
   "metadata": {},
   "outputs": [],
   "source": [
    "transition_model = lambda x: x+np.multiply(np.random.normal(0,0.1,len(x)),[10,10,250,250,10])\n",
    "\n",
    "#define prior for amh\n",
    "def log_prior(par):\n",
    "    par = par[4]\n",
    "    if(par > 1):\n",
    "        return 0\n",
    "    else:\n",
    "        return -np.inf"
   ]
  },
  {
   "cell_type": "code",
   "execution_count": null,
   "metadata": {},
   "outputs": [],
   "source": [
    "accepted, rejected = metropolis_hastings(likelihood_computer = log_post, transition_model = transition_model,param_init = ( 25, 11, 90, 85, 0.75), iterations = 15000, data = HB.loc[200:380], acceptance_rule = acceptance)"
   ]
  },
  {
   "cell_type": "code",
   "execution_count": null,
   "metadata": {},
   "outputs": [],
   "source": [
    "sns.set(style=\"ticks\")\n",
    "sns.pairplot(pd.DataFrame(accepted[1000:15000,:], columns = ['location1','scale1','location2','scale2','copula']))"
   ]
  },
  {
   "cell_type": "code",
   "execution_count": null,
   "metadata": {},
   "outputs": [],
   "source": [
    "accepted, rejected = metropolis_hastings(likelihood_computer = log_post, transition_model = transition_model,param_init = ( 25, 11, 90, 85, 0.75), iterations = 15000, data = HB.loc[100:380], acceptance_rule = acceptance)"
   ]
  },
  {
   "cell_type": "code",
   "execution_count": null,
   "metadata": {},
   "outputs": [],
   "source": [
    "sns.set(style=\"ticks\")\n",
    "sns.pairplot(pd.DataFrame(accepted[1000:15000,:], columns = ['location1','scale1','location2','scale2','copula']))"
   ]
  },
  {
   "cell_type": "markdown",
   "metadata": {},
   "source": [
    "# Case study 3"
   ]
  },
  {
   "cell_type": "code",
   "execution_count": null,
   "metadata": {},
   "outputs": [],
   "source": [
    "# real case study\n",
    "rain = np.array(get_data(25,['Precipitation']).loc['1980-1-1':'2010-1-1']['049_Precipitation'])\n",
    "discharge = np.asarray(get_data(25,['Discharge']).loc['1980-1-1':'2010-1-1']['036_Discharge'])\n",
    "\n",
    "rain_monthly = rain[0:10950].reshape(30,365)\n",
    "discharge_monthly = discharge[0:10950].reshape(30,365)\n",
    "rain_monthly_max = np.amax(rain_monthly, axis=0)\n",
    "discharge_monthly_max = np.amax(discharge_monthly, axis=0)"
   ]
  },
  {
   "cell_type": "code",
   "execution_count": null,
   "metadata": {
    "scrolled": false
   },
   "outputs": [],
   "source": [
    "sns.set(style=\"ticks\")\n",
    "sns.pairplot(pd.DataFrame({'r':rain_monthly_max, 'd':discharge_monthly_max}))"
   ]
  },
  {
   "cell_type": "code",
   "execution_count": null,
   "metadata": {},
   "outputs": [],
   "source": [
    "print(stats.genextreme.fit(rain_monthly_max))\n",
    "print(stats.genextreme.fit(discharge_monthly_max))"
   ]
  },
  {
   "cell_type": "code",
   "execution_count": null,
   "metadata": {},
   "outputs": [],
   "source": [
    "HB = pd.DataFrame({'r':rain_monthly_max, 'd':discharge_monthly_max})\n",
    "HB_cdf = pd.DataFrame({'r':stats.genextreme.cdf(rain_monthly_max,c =-0.08,  loc= 5, scale= 3), \\\n",
    "                         'd':stats.genextreme.cdf(discharge_monthly_max,c =-1.57,  loc=205, scale= 370)})\n",
    "HB_cdf.plot.scatter(x='r',y ='d', c='DarkBlue')"
   ]
  },
  {
   "cell_type": "code",
   "execution_count": null,
   "metadata": {},
   "outputs": [],
   "source": [
    "transition_model = lambda x: x+np.multiply(np.random.normal(0,0.1,len(x)),[2,2,25,25,1])\n",
    "\n",
    "#define prior \n",
    "def log_prior(par):\n",
    "    par = par[4]\n",
    "    if(par > 1):\n",
    "        return 0\n",
    "    else:\n",
    "        return -np.inf"
   ]
  },
  {
   "cell_type": "code",
   "execution_count": null,
   "metadata": {},
   "outputs": [],
   "source": [
    "accepted, rejected = metropolis_hastings(likelihood_computer = log_post, transition_model = transition_model,param_init = (5, 3, 200, 370, 0.75), iterations = 15000, data = HB.loc[200:380], acceptance_rule = acceptance)"
   ]
  },
  {
   "cell_type": "code",
   "execution_count": null,
   "metadata": {},
   "outputs": [],
   "source": [
    "sns.set(style=\"ticks\")\n",
    "sns.pairplot(pd.DataFrame(accepted[1000:15000,:], columns = ['location1','scale1','location2','scale2','copula']))"
   ]
  },
  {
   "cell_type": "code",
   "execution_count": null,
   "metadata": {},
   "outputs": [],
   "source": [
    "accepted, rejected = metropolis_hastings(likelihood_computer = log_post, transition_model = transition_model,param_init = (5, 3, 200, 370, 0.75), iterations = 15000, data = HB, acceptance_rule = acceptance)"
   ]
  },
  {
   "cell_type": "code",
   "execution_count": null,
   "metadata": {},
   "outputs": [],
   "source": [
    "sns.set(style=\"ticks\")\n",
    "sns.pairplot(pd.DataFrame(accepted[1000:15000,:], columns = ['location1','scale1','location2','scale2','copula']))"
   ]
  },
  {
   "cell_type": "code",
   "execution_count": null,
   "metadata": {},
   "outputs": [],
   "source": []
  }
 ],
 "metadata": {
  "kernelspec": {
   "display_name": "Python 3",
   "language": "python",
   "name": "python3"
  },
  "language_info": {
   "codemirror_mode": {
    "name": "ipython",
    "version": 3
   },
   "file_extension": ".py",
   "mimetype": "text/x-python",
   "name": "python",
   "nbconvert_exporter": "python",
   "pygments_lexer": "ipython3",
   "version": "3.8.5"
  }
 },
 "nbformat": 4,
 "nbformat_minor": 2
}
